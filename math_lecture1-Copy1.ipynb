{
 "cells": [
  {
   "cell_type": "code",
   "execution_count": 3,
   "id": "4c02b059",
   "metadata": {},
   "outputs": [],
   "source": [
    "import matplotlib.pyplot as plt\n",
    "import numpy as np"
   ]
  },
  {
   "cell_type": "markdown",
   "id": "9c6c5567",
   "metadata": {},
   "source": [
    "# Бесконечно малая последовательность $$ \\{x_n \\} =  \\frac{1}{n} $$"
   ]
  },
  {
   "cell_type": "code",
   "execution_count": 8,
   "id": "866793c5",
   "metadata": {},
   "outputs": [
    {
     "data": {
      "image/png": "[encoded data removed]",
      "text/plain": [
       "<Figure size 432x288 with 1 Axes>"
      ]
     },
     "metadata": {
      "needs_background": "light"
     },
     "output_type": "display_data"
    }
   ],
   "source": [
    "N = 10\n",
    "epsilon = 0.2\n",
    "x1 = []\n",
    "y = []\n",
    "redx = []\n",
    "redy = []\n",
    "for j in range(1, N + 1 ):\n",
    "    if abs(1/j) < epsilon:\n",
    "        redx.append(1/j)\n",
    "        redy.append(0)\n",
    "    else:\n",
    "        x1.append(1/j)\n",
    "        y.append(0)\n",
    "plt.plot(redx, redy, 'o', color='red'); # Последовательность 1/j\n",
    "plt.plot(x1, y, 'o', color='blue'); # Последовательность 1/j\n",
    "plt.xlabel(\"n\")\n",
    "# plt.title(\"1 + (-1)^n/n\")\n",
    "plt.show()"
   ]
  },
  {
   "cell_type": "markdown",
   "id": "fd8b969e",
   "metadata": {},
   "source": [
    "# Бесконечно малая последовательность $$ \\{x_n \\} =   (1/2)^n $$"
   ]
  },
  {
   "cell_type": "code",
   "execution_count": 14,
   "id": "25544f1d",
   "metadata": {},
   "outputs": [
    {
     "data": {
      "image/png": "[encoded data removed]",
      "text/plain": [
       "<Figure size 432x288 with 1 Axes>"
      ]
     },
     "metadata": {
      "needs_background": "light"
     },
     "output_type": "display_data"
    }
   ],
   "source": [
    "N = 10\n",
    "x2 = []\n",
    "for j in range(1, N + 1 ):\n",
    "    x2.append( (1/2)**j)\n",
    "    x3.append((1/2)**j + 1/j)\n",
    "    if (j%2 == 0):\n",
    "        x4.append(0 * 1/j)\n",
    "    else:\n",
    "        x4.append(1 * 1/j)\n",
    "# x = np.linspace(1, 30, 30)\n",
    "y = [0]*N\n",
    "# plt.plot(x1, y, 'o', color='blue'); # Последовательность 1/j\n",
    "plt.plot(x2, y, 'o', color='red'); # Последовательность 1 + (1/2)**j\n",
    "# plt.plot(x3, y,'o',  color='black'); # сумма двух бесконечно малых последовательностьей \n",
    "# plt.plot(x4, y,'o',  color='black'); # Произведение двух бесконечно малых последовательностей\n",
    "plt.xlabel(\"n\")\n",
    "plt.ylabel(\"\")\n",
    "# plt.title(\"1 + (-1)^n/n\")\n",
    "plt.show()"
   ]
  },
  {
   "cell_type": "markdown",
   "id": "d67a29dd",
   "metadata": {},
   "source": [
    "# Cумма двух бесконечно малых последовательностей последовательностей $$ \\left(\\frac{1}{n} \\right) + \\left(  (1/2)^n\\right) $$"
   ]
  },
  {
   "cell_type": "code",
   "execution_count": 16,
   "id": "c6758ec4",
   "metadata": {},
   "outputs": [
    {
     "data": {
      "image/png": "[encoded data removed]",
      "text/plain": [
       "<Figure size 432x288 with 1 Axes>"
      ]
     },
     "metadata": {
      "needs_background": "light"
     },
     "output_type": "display_data"
    }
   ],
   "source": [
    "N = 10\n",
    "x1 = []\n",
    "x2 = []\n",
    "x3 = []\n",
    "for j in range(1, N + 1 ):\n",
    "    x1.append( 1/j)\n",
    "    x2.append( (1/2)**j)\n",
    "    x3.append((1/2)**j + 1/j)\n",
    "    if (j%2 == 0):\n",
    "        x4.append(0 * 1/j)\n",
    "    else:\n",
    "        x4.append(1 * 1/j)\n",
    "# x = np.linspace(1, 30, 30)\n",
    "y = [0]*N\n",
    "# plt.plot(x1, y, 'o', color='blue'); # Последовательность 1/j\n",
    "# plt.plot(x2, y, 'o', color='red'); # Последовательность 1 + (1/2)**j\n",
    "plt.plot(x3, y,'o',  color='black'); # сумма двух бесконечно малых последовательностьей \n",
    "# plt.plot(x4, y,'o',  color='black'); # Произведение двух бесконечно малых последовательностей\n",
    "plt.xlabel(\"n\")\n",
    "plt.ylabel(\"\")\n",
    "# plt.title(\"1 + (-1)^n/n\")\n",
    "plt.show()"
   ]
  },
  {
   "cell_type": "markdown",
   "id": "e13df9fc",
   "metadata": {},
   "source": [
    "# Произведение  бесконечно малой последовательности на ограниченную $$ \\left(\\frac{1}{n} \\right) \\times \\left( \\frac{n}{n+1} \\right) $$"
   ]
  },
  {
   "cell_type": "code",
   "execution_count": 169,
   "id": "db3ad5e4",
   "metadata": {},
   "outputs": [
    {
     "data": {
      "image/png": "[encoded data removed]",
      "text/plain": [
       "<Figure size 432x288 with 1 Axes>"
      ]
     },
     "metadata": {
      "needs_background": "light"
     },
     "output_type": "display_data"
    }
   ],
   "source": [
    "N = 10\n",
    "x1 = []\n",
    "x2 = []\n",
    "x3 = []\n",
    "x4 = []\n",
    "for j in range(1, N + 1 ):\n",
    "    x1.append( 1/j)\n",
    "    x2.append(1 + (1/2)**j)\n",
    "    x3.append(j/(j+1) * 1/j)\n",
    "    if (j%2 == 0):\n",
    "        x4.append(0 * 1/j)\n",
    "    else:\n",
    "        x4.append(1 * 1/j)\n",
    "# x = np.linspace(1, 30, 30)\n",
    "y = [0]*N\n",
    "plt.plot(x1, y,'o',  color='black'); # Произведение двух бесконечно малых последовательностей\n",
    "plt.xlabel(\"n\")\n",
    "plt.ylabel(\"\")\n",
    "# plt.title(\"1 + (-1)^n/n\")\n",
    "plt.show()"
   ]
  },
  {
   "cell_type": "markdown",
   "id": "faac25d3",
   "metadata": {},
   "source": [
    "# Последовательность $$ 1 + \\frac{(-1)^n}{n} $$"
   ]
  },
  {
   "cell_type": "code",
   "execution_count": 202,
   "id": "a2abda3c",
   "metadata": {
    "scrolled": true
   },
   "outputs": [
    {
     "name": "stdout",
     "output_type": "stream",
     "text": [
      "[10, 11, 12, 13, 14, 15, 16, 17, 18, 19, 20, 21, 22, 23, 24, 25, 26, 27, 28, 29, 30, 31, 32, 33, 34, 35, 36, 37, 38, 39]\n"
     ]
    },
    {
     "data": {
      "image/png": "[encoded data removed]",
      "text/plain": [
       "<Figure size 432x288 with 1 Axes>"
      ]
     },
     "metadata": {
      "needs_background": "light"
     },
     "output_type": "display_data"
    }
   ],
   "source": [
    "n = 40\n",
    "epsilon = 0.1\n",
    "chastota = n\n",
    "nomer_N = []\n",
    "x = np.linspace(1, n,chastota)\n",
    "y = 1 + (-1)**x / x\n",
    "\n",
    "x1 = np.linspace(1, n,chastota)\n",
    "\n",
    "y1 = [1 - epsilon]*chastota\n",
    "y2 = [1 + epsilon]*chastota\n",
    "y3 = [1.0]*chastota\n",
    "\n",
    "redX = []\n",
    "redY = []\n",
    "\n",
    "for i in range(len(x)):\n",
    "    if abs(y[i]-y3[i]) <= epsilon:\n",
    "        nomer_N.append(i)\n",
    "        redX.append(x[i])\n",
    "        redY.append(y[i])\n",
    "print(nomer_N)\n",
    "plt.plot(x, y, 'o', color='black')\n",
    "plt.plot(redX, redY, 'o', color='red')\n",
    "plt.plot(x1, y1, color='g', label='epsilon')\n",
    "plt.plot(x1, y2, color='g', label='epsilon')\n",
    "plt.plot(x1, y3, color='b', label='epsilon')\n",
    "plt.xlabel(\"n\")\n",
    "plt.ylabel(\"\")\n",
    "# plt.title(\"1 + (-1)^n/n\")\n",
    "plt.show()"
   ]
  },
  {
   "cell_type": "markdown",
   "id": "4e619bfa",
   "metadata": {},
   "source": [
    "# Последовательность $$  \\frac{n}{n+1} $$"
   ]
  },
  {
   "cell_type": "code",
   "execution_count": 18,
   "id": "7dd5d7fa",
   "metadata": {},
   "outputs": [
    {
     "name": "stdout",
     "output_type": "stream",
     "text": [
      "[99, 100, 101, 102, 103, 104, 105, 106, 107, 108, 109, 110, 111, 112, 113, 114, 115, 116, 117, 118, 119]\n"
     ]
    },
    {
     "data": {
      "image/png": "[encoded data removed]",
      "text/plain": [
       "<Figure size 432x288 with 1 Axes>"
      ]
     },
     "metadata": {
      "needs_background": "light"
     },
     "output_type": "display_data"
    }
   ],
   "source": [
    "epsilon = 0.01\n",
    "n = 120\n",
    "nomer_N = []\n",
    "limits = int(n/0.05)\n",
    "x = np.linspace(1, n, n)\n",
    "y = x/(x+1)\n",
    "redX = []\n",
    "redY = []\n",
    "x1 = np.arange(0,n,0.05)\n",
    "y1 = [1 - epsilon]*limits\n",
    "y2 = [1 + epsilon]*limits\n",
    "y3 = [1.0]*limits\n",
    "\n",
    "for i in range(len(x)):\n",
    "    if abs(y[i]-y3[i]) <= epsilon:\n",
    "        nomer_N.append(i)\n",
    "        redX.append(x[i])\n",
    "        redY.append(y[i])\n",
    "print(nomer_N)        \n",
    "plt.plot(x, y, 'o', color='black');\n",
    "plt.plot(redX, redY, 'o', color='red')\n",
    "plt.plot(x1, y1, color='g', label='epsilon')\n",
    "plt.plot(x1, y2, color='g', label='epsilon')\n",
    "plt.plot(x1, y3, color='b', label='epsilon')\n",
    "plt.xlabel(\"n\")\n",
    "plt.ylabel(\"\")\n",
    "plt.title(\"n/(n+1)\")\n",
    "plt.show()"
   ]
  },
  {
   "cell_type": "markdown",
   "id": "a97da421",
   "metadata": {},
   "source": [
    "# Домножим на константу  $$ \\left( \\textbf{C} \\frac{n}{n+1} \\right) $$"
   ]
  },
  {
   "cell_type": "code",
   "execution_count": 20,
   "id": "4c5e859c",
   "metadata": {},
   "outputs": [
    {
     "data": {
      "image/png": "[encoded data removed]",
      "text/plain": [
       "<Figure size 432x288 with 1 Axes>"
      ]
     },
     "metadata": {
      "needs_background": "light"
     },
     "output_type": "display_data"
    }
   ],
   "source": [
    "n = 40\n",
    "C = 60\n",
    "limits = int(n/0.05)\n",
    "x = np.linspace(1, n, n)\n",
    "y = C*(x/(x+1)) \n",
    "\n",
    "x1 = np.arange(0,n,0.05)\n",
    "epsilon = 0.1\n",
    "y1 = [1 - epsilon]*limits\n",
    "y2 = [1 + epsilon]*limits\n",
    "y3 = [1.0]*limits\n",
    "plt.plot(x, y, 'o', color='black');\n",
    "\n",
    "plt.xlabel(\"n\")\n",
    "plt.ylabel(\"\")\n",
    "plt.show()"
   ]
  },
  {
   "cell_type": "markdown",
   "id": "39e00a0a",
   "metadata": {},
   "source": [
    "# Сумма сходящихся последовательностей $$ \\left( 1 + \\frac{(-1)^n}{n} \\right) + \\left( \\frac{n}{n+1} \\right) $$"
   ]
  },
  {
   "cell_type": "code",
   "execution_count": 21,
   "id": "ea484617",
   "metadata": {},
   "outputs": [
    {
     "data": {
      "image/png": "[encoded data removed]",
      "text/plain": [
       "<Figure size 432x288 with 1 Axes>"
      ]
     },
     "metadata": {
      "needs_background": "light"
     },
     "output_type": "display_data"
    }
   ],
   "source": [
    "n = 80\n",
    "limits = int(n/0.05)\n",
    "x = np.linspace(1, n, n)\n",
    "y = x/(x+1) + (1 + np.power(-1,x)/x)\n",
    "plt.plot(x, y, 'o', color='black');\n",
    "\n",
    "plt.xlabel(\"n\")\n",
    "plt.ylabel(\"\")\n",
    "plt.show()"
   ]
  },
  {
   "cell_type": "markdown",
   "id": "db9b9e15",
   "metadata": {},
   "source": [
    "# Произведение сходящихся последовательностей $$ \\left( 1 + \\frac{(-1)^n}{n} \\right) \\times \\left( \\frac{n}{n+1} \\right) $$"
   ]
  },
  {
   "cell_type": "code",
   "execution_count": 22,
   "id": "c1ad7ccb",
   "metadata": {},
   "outputs": [
    {
     "data": {
      "image/png": "[encoded data removed]",
      "text/plain": [
       "<Figure size 432x288 with 1 Axes>"
      ]
     },
     "metadata": {
      "needs_background": "light"
     },
     "output_type": "display_data"
    }
   ],
   "source": [
    "n = 80\n",
    "limits = int(n/0.05)\n",
    "x = np.linspace(1, n, n)\n",
    "y = x/(x+1) * (1 + np.power(-1,x)/x)\n",
    "\n",
    "x1 = np.arange(0,n,0.05)\n",
    "epsilon = 0.1\n",
    "y1 = [1 - epsilon]*limits\n",
    "y2 = [1 + epsilon]*limits\n",
    "y3 = [1.0]*limits\n",
    "plt.plot(x, y, 'o', color='black');\n",
    "\n",
    "plt.xlabel(\"n\")\n",
    "plt.ylabel(\"\")\n",
    "plt.show()"
   ]
  },
  {
   "cell_type": "markdown",
   "id": "16b5e88c",
   "metadata": {},
   "source": [
    "# Частное сходящихся последовательностей $$ \\left( \\frac{n}{n+1} \\right)/ \\left( 1 + \\frac{(-1)^n}{n} \\right)  $$"
   ]
  },
  {
   "cell_type": "code",
   "execution_count": 23,
   "id": "19c2ee30",
   "metadata": {},
   "outputs": [
    {
     "name": "stderr",
     "output_type": "stream",
     "text": [
      "<ipython-input-23-986a87bb1b6e>:4: RuntimeWarning: divide by zero encountered in true_divide\n",
      "  y = x/(x+1) / (1 + np.power(-1,x)/x)\n"
     ]
    },
    {
     "data": {
      "image/png": "[encoded data removed]",
      "text/plain": [
       "<Figure size 432x288 with 1 Axes>"
      ]
     },
     "metadata": {
      "needs_background": "light"
     },
     "output_type": "display_data"
    }
   ],
   "source": [
    "n = 80\n",
    "limits = int(n/0.05)\n",
    "x = np.linspace(1, n, n)\n",
    "y = x/(x+1) / (1 + np.power(-1,x)/x)\n",
    "\n",
    "x1 = np.arange(0,n,0.05)\n",
    "epsilon = 0.1\n",
    "y1 = [1 - epsilon]*limits\n",
    "y2 = [1 + epsilon]*limits\n",
    "y3 = [1.0]*limits\n",
    "plt.plot(x, y, 'o', color='black');\n",
    "\n",
    "plt.xlabel(\"n\")\n",
    "plt.ylabel(\"\")\n",
    "plt.show()"
   ]
  },
  {
   "cell_type": "code",
   "execution_count": null,
   "id": "237c35e9",
   "metadata": {},
   "outputs": [],
   "source": []
  }
 ],
 "metadata": {
  "kernelspec": {
   "display_name": "Python 3",
   "language": "python",
   "name": "python3"
  },
  "language_info": {
   "codemirror_mode": {
    "name": "ipython",
    "version": 3
   },
   "file_extension": ".py",
   "mimetype": "text/x-python",
   "name": "python",
   "nbconvert_exporter": "python",
   "pygments_lexer": "ipython3",
   "version": "3.8.8"
  }
 },
 "nbformat": 4,
 "nbformat_minor": 5
}
