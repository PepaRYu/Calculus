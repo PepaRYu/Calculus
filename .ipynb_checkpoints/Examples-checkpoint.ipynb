{
 "cells": [
  {
   "cell_type": "code",
   "execution_count": 1,
   "id": "fc17d4c5",
   "metadata": {},
   "outputs": [
    {
     "name": "stdout",
     "output_type": "stream",
     "text": [
      "Econometrica Rules!!!\n"
     ]
    }
   ],
   "source": [
    "print('Econometrica Rules!!!')"
   ]
  },
  {
   "cell_type": "code",
   "execution_count": 1,
   "id": "c048a39c",
   "metadata": {},
   "outputs": [
    {
     "name": "stdout",
     "output_type": "stream",
     "text": [
      "this code is made from 410\n"
     ]
    }
   ],
   "source": [
    "print('this code is made from 410')"
   ]
  },
  {
   "cell_type": "code",
   "execution_count": 1,
   "id": "9a041d3d",
   "metadata": {},
   "outputs": [
    {
     "name": "stdout",
     "output_type": "stream",
     "text": [
      "Provodiim semina po git\n"
     ]
    }
   ],
   "source": [
    "print('Provodiim semina po git')"
   ]
  },
  {
   "cell_type": "code",
   "execution_count": null,
   "id": "52d088df",
   "metadata": {},
   "outputs": [],
   "source": []
  }
 ],
 "metadata": {
  "kernelspec": {
   "display_name": "Python 3",
   "language": "python",
   "name": "python3"
  },
  "language_info": {
   "codemirror_mode": {
    "name": "ipython",
    "version": 3
   },
   "file_extension": ".py",
   "mimetype": "text/x-python",
   "name": "python",
   "nbconvert_exporter": "python",
   "pygments_lexer": "ipython3",
   "version": "3.8.8"
  }
 },
 "nbformat": 4,
 "nbformat_minor": 5
}
